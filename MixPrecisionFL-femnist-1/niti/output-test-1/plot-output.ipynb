{
 "cells": [
  {
   "cell_type": "code",
   "execution_count": 1,
   "metadata": {},
   "outputs": [
    {
     "name": "stderr",
     "output_type": "stream",
     "text": [
      "/opt/conda/lib/python3.7/site-packages/tqdm/auto.py:22: TqdmWarning: IProgress not found. Please update jupyter and ipywidgets. See https://ipywidgets.readthedocs.io/en/stable/user_install.html\n",
      "  from .autonotebook import tqdm as notebook_tqdm\n"
     ]
    }
   ],
   "source": [
    "# import matplotlib.pyplot as plt\n",
    "import numpy as np\n",
    "import torch"
   ]
  },
  {
   "cell_type": "code",
   "execution_count": 3,
   "metadata": {},
   "outputs": [
    {
     "name": "stdout",
     "output_type": "stream",
     "text": [
      "[0.0, 20.0, 40.0, 60.0, 80.0, 100.0, 120.0, 140.0, 160.0, 180.0, 200.0, 220.0, 240.0, 260.0, 280.0, 300.0, 320.0, 340.0, 360.0, 380.0, 400.0, 420.0, 440.0, 460.0, 480.0, 500.0, 520.0, 540.0, 560.0, 580.0]\n",
      "[6.1737432773081835, 58.93118587920234, 67.69155679277353, 71.05905313245141, 72.08394331813382, 74.96339671747926, 76.89116637330919, 76.57393845725257, 77.64763293119685, 77.55002434257183, 77.69643722783653, 77.33040502072544, 78.96534889299384, 79.16056607117474, 79.91703263371674, 80.03904337810853, 79.74621760385568, 79.81942405533127, 80.40507558056528, 80.3562712895108, 80.99072713093271, 79.91703263557848, 80.25866269902406, 80.11224982586066, 81.42996578672678, 81.01512927552908, 81.21034646208778, 80.89311855161638, 80.72230351430838, 81.25915075500399]\n"
     ]
    }
   ],
   "source": [
    "results = np.load('result-niti-hybrid-update-femnist-25-round600-gb3-epoch1.npy')\n",
    "x, y = [], []\n",
    "for metric in results:\n",
    "    x.append(metric[0])\n",
    "    y.append(metric[1])\n",
    "print(x)\n",
    "print(y)"
   ]
  },
  {
   "cell_type": "code",
   "execution_count": 4,
   "metadata": {},
   "outputs": [
    {
     "name": "stdout",
     "output_type": "stream",
     "text": [
      "[0.0, 20.0, 40.0, 60.0, 80.0, 100.0, 120.0, 140.0, 160.0, 180.0, 200.0, 220.0, 240.0, 260.0, 280.0, 300.0, 320.0, 340.0, 360.0, 380.0, 400.0, 420.0, 440.0, 460.0, 480.0, 500.0, 520.0, 540.0, 560.0, 580.0]\n",
      "[5.7833089162920555, 21.034651015781087, 33.52855045566214, 46.120058490684286, 48.975109755672904, 52.53782326422301, 54.78282082400827, 58.41874078217223, 61.00536841657349, 62.64031228139495, 64.27525616297203, 62.83552945864497, 66.17862364907216, 66.2274279466427, 68.57003410063818, 69.08247919580656, 69.71693503257413, 70.25378227326974, 70.6442166305624, 71.13225957554918, 72.9624206315837, 71.71791110823014, 72.35236695896073, 72.57198628639232, 73.13323568006211, 73.35285500097764, 74.08491939937504, 73.69448505139107, 74.35334302996239, 74.93899455705814]\n"
     ]
    }
   ],
   "source": [
    "results = np.load('result-niti-hybrid-update-femnist-25-round600-gb1-epoch1.npy')\n",
    "x, y = [], []\n",
    "for metric in results:\n",
    "    x.append(metric[0])\n",
    "    y.append(metric[1])\n",
    "print(x)\n",
    "print(y)"
   ]
  },
  {
   "cell_type": "code",
   "execution_count": null,
   "metadata": {},
   "outputs": [],
   "source": [
    "results = np.load('result-niti-hybrid-update-femnist-25-round600-gb2-epoch1.npy')\n",
    "x, y = [], []\n",
    "for metric in results:\n",
    "    x.append(metric[0])\n",
    "    y.append(metric[1])\n",
    "print(x)\n",
    "print(y)"
   ]
  }
 ],
 "metadata": {
  "kernelspec": {
   "display_name": "Python 3.7.7 ('base')",
   "language": "python",
   "name": "python3"
  },
  "language_info": {
   "codemirror_mode": {
    "name": "ipython",
    "version": 3
   },
   "file_extension": ".py",
   "mimetype": "text/x-python",
   "name": "python",
   "nbconvert_exporter": "python",
   "pygments_lexer": "ipython3",
   "version": "3.7.13"
  },
  "orig_nbformat": 4,
  "vscode": {
   "interpreter": {
    "hash": "d4d1e4263499bec80672ea0156c357c1ee493ec2b1c70f0acce89fc37c4a6abe"
   }
  }
 },
 "nbformat": 4,
 "nbformat_minor": 2
}
