{
    "cells": [
        {
            "cell_type": "code",
            "execution_count": 2,
            "source": [
                "import torch\n",
                "import numpy as np\n",
                "import math\n",
                "import matplotlib.pyplot as plt"
            ],
            "outputs": [],
            "metadata": {}
        },
        {
            "cell_type": "code",
            "execution_count": null,
            "source": [
                "client_num_samples = np.load('client_num_samples.npy', allow_pickle=True).item()\n",
                "client_num_samples"
            ],
            "outputs": [],
            "metadata": {}
        },
        {
            "cell_type": "code",
            "execution_count": null,
            "source": [
                "clientNum192_epoch0 = np.load('id_samples_acc_loss-clientNum192-epoch0.npy', allow_pickle=True)\n",
                "clientNum192_epoch0"
            ],
            "outputs": [],
            "metadata": {}
        },
        {
            "cell_type": "code",
            "execution_count": null,
            "source": [
                "clientNum192_round0_localEpoch10 = np.load('id_samples_acc_loss-clientNum192-round0-localEpoch10.npy', allow_pickle=True)\n",
                "clientNum192_round0_localEpoch10"
            ],
            "outputs": [],
            "metadata": {}
        },
        {
            "cell_type": "code",
            "execution_count": null,
            "source": [
                "clientNum192_round10_localEpoch10 = np.load('id_samples_acc_loss-clientNum192-round10-localEpoch10.npy', allow_pickle=True)\n",
                "clientNum192_round10_localEpoch10"
            ],
            "outputs": [],
            "metadata": {}
        },
        {
            "cell_type": "code",
            "execution_count": 14,
            "source": [
                "clientNum10_round0_localEpoch100 = np.load('id_samples_acc_loss-clientNum10-round0-localEpoch100.npy', allow_pickle=True)\n",
                "clientNum10_round0_localEpoch100"
            ],
            "outputs": [
                {
                    "output_type": "execute_result",
                    "data": {
                        "text/plain": [
                            "array([{'client_id': 'f1978_04', 'num_train_samples': 148, 'acc': 27.916056612051076, 'loss': 1.247340832806658},\n",
                            "       {'client_id': 'f1391_35', 'num_train_samples': 355, 'acc': 30.136652025378233, 'loss': 0.8211890161499681},\n",
                            "       {'client_id': 'f3450_19', 'num_train_samples': 160, 'acc': 23.938506587648927, 'loss': 1.1740886447665435},\n",
                            "       {'client_id': 'f1750_06', 'num_train_samples': 44, 'acc': 11.932650073206442, 'loss': 2.2122915600375697},\n",
                            "       {'client_id': 'f2243_87', 'num_train_samples': 142, 'acc': 22.425573449532774, 'loss': 1.065538155184903},\n",
                            "       {'client_id': 'f1313_04', 'num_train_samples': 211, 'acc': 41.31283552859573, 'loss': 0.8892514684552376},\n",
                            "       {'client_id': 'f0306_35', 'num_train_samples': 205, 'acc': 17.984382624740192, 'loss': 0.7956393816546312},\n",
                            "       {'client_id': 'f3370_37', 'num_train_samples': 162, 'acc': 24.18252806153863, 'loss': 0.9976055565612747},\n",
                            "       {'client_id': 'f3143_04', 'num_train_samples': 163, 'acc': 26.305514885309908, 'loss': 1.0937760451145435},\n",
                            "       {'client_id': 'f0118_07', 'num_train_samples': 240, 'acc': 26.891166422645192, 'loss': 0.6313377300037397}],\n",
                            "      dtype=object)"
                        ]
                    },
                    "metadata": {},
                    "execution_count": 14
                }
            ],
            "metadata": {}
        },
        {
            "cell_type": "code",
            "execution_count": 3,
            "source": [
                "clientNum192_round0_localEpoch100 = np.load('id_samples_acc_loss-clientNum192-round0-localEpoch100.npy', allow_pickle=True)\n",
                "clientNum192_round0_localEpoch100"
            ],
            "outputs": [
                {
                    "output_type": "execute_result",
                    "data": {
                        "text/plain": [
                            "array([{'client_id': 'f1978_04', 'num_train_samples': 148, 'acc': 28.818936065442973, 'loss': 1.2098628440753172},\n",
                            "       {'client_id': 'f1391_35', 'num_train_samples': 355, 'acc': 29.502196193265007, 'loss': 0.8041531180512099},\n",
                            "       {'client_id': 'f3450_19', 'num_train_samples': 160, 'acc': 24.938994631527574, 'loss': 1.1325083989554958},\n",
                            "       {'client_id': 'f1750_06', 'num_train_samples': 44, 'acc': 23.03562713425703, 'loss': 2.0210487143322826},\n",
                            "       {'client_id': 'f2243_87', 'num_train_samples': 142, 'acc': 24.426549535428332, 'loss': 0.972076455186887},\n",
                            "       {'client_id': 'f1313_04', 'num_train_samples': 211, 'acc': 43.43582235050527, 'loss': 0.9275637452129453},\n",
                            "       {'client_id': 'f0306_35', 'num_train_samples': 205, 'acc': 16.739873108833578, 'loss': 0.7449474870937056},\n",
                            "       {'client_id': 'f3370_37', 'num_train_samples': 162, 'acc': 26.500732062559933, 'loss': 0.9142957951646167},\n",
                            "       {'client_id': 'f3143_04', 'num_train_samples': 163, 'acc': 27.96486090775988, 'loss': 1.0911657847908334},\n",
                            "       {'client_id': 'f0118_07', 'num_train_samples': 240, 'acc': 25.134211810639336, 'loss': 0.6010361857483216},\n",
                            "       {'client_id': 'f0088_22', 'num_train_samples': 297, 'acc': 27.550024401216522, 'loss': 0.5746935571866377},\n",
                            "       {'client_id': 'f2523_65', 'num_train_samples': 158, 'acc': 27.818448022495193, 'loss': 1.047434661514147},\n",
                            "       {'client_id': 'f3384_26', 'num_train_samples': 144, 'acc': 27.57442654860549, 'loss': 1.0668905685502539},\n",
                            "       {'client_id': 'f3620_07', 'num_train_samples': 152, 'acc': 30.941922888283383, 'loss': 1.0799879277240532},\n",
                            "       {'client_id': 'f3410_19', 'num_train_samples': 159, 'acc': 30.161054170905466, 'loss': 0.7935385561550695},\n",
                            "       {'client_id': 'f3574_30', 'num_train_samples': 135, 'acc': 25.622254756557005, 'loss': 0.83186275201258},\n",
                            "       {'client_id': 'f0644_19', 'num_train_samples': 393, 'acc': 33.113714005901734, 'loss': 0.7370835456521719},\n",
                            "       {'client_id': 'f1208_33', 'num_train_samples': 198, 'acc': 16.373840897999024, 'loss': 0.5603591707268004},\n",
                            "       {'client_id': 'f2480_61', 'num_train_samples': 135, 'acc': 18.301610540796805, 'loss': 1.2169842967118407},\n",
                            "       {'client_id': 'f2210_96', 'num_train_samples': 156, 'acc': 24.280136652025377, 'loss': 1.2477047151673002},\n",
                            "       {'client_id': 'f1002_33', 'num_train_samples': 174, 'acc': 30.063445582280455, 'loss': 0.940972417517181},\n",
                            "       {'client_id': 'f3909_46', 'num_train_samples': 152, 'acc': 32.69887750028924, 'loss': 1.0406367468681808},\n",
                            "       {'client_id': 'f2456_71', 'num_train_samples': 7, 'acc': 9.248413860419717, 'loss': 1.6728928488492967},\n",
                            "       {'client_id': 'f3838_46', 'num_train_samples': 164, 'acc': 27.086383600826085, 'loss': 0.786190521118093},\n",
                            "       {'client_id': 'f3993_05', 'num_train_samples': 41, 'acc': 22.18155197564307, 'loss': 1.4906961615267778},\n",
                            "       {'client_id': 'f3236_26', 'num_train_samples': 134, 'acc': 19.472913615467377, 'loss': 0.7001975015729949},\n",
                            "       {'client_id': 'f1120_05', 'num_train_samples': 360, 'acc': 35.16349438657523, 'loss': 0.5691607209331159},\n",
                            "       {'client_id': 'f1087_32', 'num_train_samples': 259, 'acc': 35.30990727090905, 'loss': 1.1377046871051282},\n",
                            "       {'client_id': 'f3425_47', 'num_train_samples': 142, 'acc': 22.742801366520254, 'loss': 1.219044510213204},\n",
                            "       {'client_id': 'f0583_26', 'num_train_samples': 198, 'acc': 11.273792093704246, 'loss': 0.8057639121165603},\n",
                            "       {'client_id': 'f0079_06', 'num_train_samples': 235, 'acc': 26.54953635919961, 'loss': 0.966976712441923},\n",
                            "       {'client_id': 'f0976_41', 'num_train_samples': 225, 'acc': 25.915080527086385, 'loss': 1.0241363945061135},\n",
                            "       {'client_id': 'f1740_04', 'num_train_samples': 153, 'acc': 25.1098096623195, 'loss': 0.9453769938202056},\n",
                            "       {'client_id': 'f0768_20', 'num_train_samples': 283, 'acc': 33.23572474191572, 'loss': 0.7288171811372225},\n",
                            "       {'client_id': 'f0800_00', 'num_train_samples': 250, 'acc': 26.671547095213594, 'loss': 0.7447879659613674},\n",
                            "       {'client_id': 'f0477_46', 'num_train_samples': 352, 'acc': 26.525134209948902, 'loss': 1.0342749750676048},\n",
                            "       {'client_id': 'f3739_34', 'num_train_samples': 144, 'acc': 27.061981453437117, 'loss': 1.1185616270758085},\n",
                            "       {'client_id': 'f3795_00', 'num_train_samples': 27, 'acc': 20.13177159496957, 'loss': 1.5957234107696072},\n",
                            "       {'client_id': 'f2031_31', 'num_train_samples': 116, 'acc': 28.257686676427525, 'loss': 1.1506943773641038},\n",
                            "       {'client_id': 'f0136_18', 'num_train_samples': 318, 'acc': 31.08833577354807, 'loss': 0.8132357623820795},\n",
                            "       {'client_id': 'f1850_16', 'num_train_samples': 111, 'acc': 25.45143972669595, 'loss': 1.2389040600852304},\n",
                            "       {'client_id': 'f1621_46', 'num_train_samples': 92, 'acc': 25.963884821864323, 'loss': 1.017737921631149},\n",
                            "       {'client_id': 'f1646_33', 'num_train_samples': 97, 'acc': 19.692532942898975, 'loss': 1.287214044953544},\n",
                            "       {'client_id': 'f2125_64', 'num_train_samples': 157, 'acc': 26.891166422645192, 'loss': 0.9348346562106687},\n",
                            "       {'client_id': 'f3707_32', 'num_train_samples': 158, 'acc': 28.062469497315764, 'loss': 1.1327456397055902},\n",
                            "       {'client_id': 'f2010_38', 'num_train_samples': 155, 'acc': 33.23572474191572, 'loss': 1.0631050595267058},\n",
                            "       {'client_id': 'f0423_04', 'num_train_samples': 248, 'acc': 32.47925817378851, 'loss': 1.0518145399641776},\n",
                            "       {'client_id': 'f0563_12', 'num_train_samples': 162, 'acc': 18.862859931673988, 'loss': 1.1040493007050562},\n",
                            "       {'client_id': 'f2017_03', 'num_train_samples': 153, 'acc': 30.72230356085178, 'loss': 1.0068717994482037},\n",
                            "       {'client_id': 'f1110_03', 'num_train_samples': 69, 'acc': 12.933138115223354, 'loss': 1.5519012899457922},\n",
                            "       {'client_id': 'f3729_27', 'num_train_samples': 162, 'acc': 32.43045387994143, 'loss': 1.121624430058009},\n",
                            "       {'client_id': 'f2213_72', 'num_train_samples': 161, 'acc': 26.69594924353343, 'loss': 1.0164918593815206},\n",
                            "       {'client_id': 'f0319_32', 'num_train_samples': 288, 'acc': 31.039531477839265, 'loss': 1.014644088612992},\n",
                            "       {'client_id': 'f3154_48', 'num_train_samples': 154, 'acc': 34.11420204978038, 'loss': 1.1085264403137287},\n",
                            "       {'client_id': 'f1513_07', 'num_train_samples': 107, 'acc': 26.67154709614446, 'loss': 1.0865302362053069},\n",
                            "       {'client_id': 'f0951_29', 'num_train_samples': 356, 'acc': 31.356759393895878, 'loss': 0.39429548979946344},\n",
                            "       {'client_id': 'f3359_42', 'num_train_samples': 154, 'acc': 21.644704734016592, 'loss': 0.9898300432068076},\n",
                            "       {'client_id': 'f0285_23', 'num_train_samples': 314, 'acc': 32.284040994676744, 'loss': 0.6885525611015321},\n",
                            "       {'client_id': 'f0911_02', 'num_train_samples': 50, 'acc': 13.714006831670401, 'loss': 1.6483218872197904},\n",
                            "       {'client_id': 'f1575_36', 'num_train_samples': 55, 'acc': 26.32991703083714, 'loss': 1.7462409263781526},\n",
                            "       {'client_id': 'f2587_73', 'num_train_samples': 153, 'acc': 22.10834553440703, 'loss': 1.1878231054682336},\n",
                            "       {'client_id': 'f0734_39', 'num_train_samples': 324, 'acc': 41.38604197076264, 'loss': 0.63225088924671},\n",
                            "       {'client_id': 'f3720_15', 'num_train_samples': 113, 'acc': 24.4265495363592, 'loss': 1.5867068972300962},\n",
                            "       {'client_id': 'f0396_05', 'num_train_samples': 225, 'acc': 33.382137627180406, 'loss': 1.009443183764395},\n",
                            "       {'client_id': 'f2390_87', 'num_train_samples': 142, 'acc': 19.424109321620303, 'loss': 1.6185461802388588},\n",
                            "       {'client_id': 'f2376_57', 'num_train_samples': 162, 'acc': 27.891654463731236, 'loss': 0.8233008675904228},\n",
                            "       {'client_id': 'f2462_98', 'num_train_samples': 157, 'acc': 29.062957538401808, 'loss': 0.8006463410806469},\n",
                            "       {'client_id': 'f1487_45', 'num_train_samples': 34, 'acc': 9.980478282088823, 'loss': 2.279524146217634},\n",
                            "       {'client_id': 'f1971_12', 'num_train_samples': 144, 'acc': 31.332357246506906, 'loss': 1.4318909138831197},\n",
                            "       {'client_id': 'f0256_08', 'num_train_samples': 55, 'acc': 13.030746705710103, 'loss': 1.558099014852196},\n",
                            "       {'client_id': 'f0482_06', 'num_train_samples': 325, 'acc': 38.091752072320794, 'loss': 0.7596495195239187},\n",
                            "       {'client_id': 'f1688_24', 'num_train_samples': 97, 'acc': 33.7969741327929, 'loss': 0.7605067912894964},\n",
                            "       {'client_id': 'f1975_00', 'num_train_samples': 115, 'acc': 26.72035138999153, 'loss': 1.031732477871157},\n",
                            "       {'client_id': 'f0816_18', 'num_train_samples': 272, 'acc': 26.012689116642264, 'loss': 0.9553887089170715},\n",
                            "       {'client_id': 'f3934_45', 'num_train_samples': 145, 'acc': 30.209858467545143, 'loss': 1.001358727988948},\n",
                            "       {'client_id': 'f1764_25', 'num_train_samples': 130, 'acc': 28.5505124441643, 'loss': 1.1586682869832656},\n",
                            "       {'client_id': 'f1116_09', 'num_train_samples': 314, 'acc': 26.110297706198146, 'loss': 0.7431455819893239},\n",
                            "       {'client_id': 'f0045_12', 'num_train_samples': 295, 'acc': 20.52220595412396, 'loss': 1.0973264530290094},\n",
                            "       {'client_id': 'f1077_48', 'num_train_samples': 215, 'acc': 33.7969741327929, 'loss': 0.8666576574781272},\n",
                            "       {'client_id': 'f1923_42', 'num_train_samples': 90, 'acc': 12.225475841874085, 'loss': 1.3603194568225687},\n",
                            "       {'client_id': 'f1933_13', 'num_train_samples': 27, 'acc': 17.057101023959323, 'loss': 2.16579373035166},\n",
                            "       {'client_id': 'f0764_08', 'num_train_samples': 135, 'acc': 12.76232308443143, 'loss': 1.6609572771090704},\n",
                            "       {'client_id': 'f0185_23', 'num_train_samples': 355, 'acc': 24.499755977595242, 'loss': 0.8717215780079451},\n",
                            "       {'client_id': 'f1724_42', 'num_train_samples': 144, 'acc': 33.21132259452675, 'loss': 0.7784633896774322},\n",
                            "       {'client_id': 'f1350_18', 'num_train_samples': 316, 'acc': 35.21229868228404, 'loss': 0.7006544206304188},\n",
                            "       {'client_id': 'f3877_11', 'num_train_samples': 153, 'acc': 27.159590043923867, 'loss': 1.0567143571493545},\n",
                            "       {'client_id': 'f3631_34', 'num_train_samples': 155, 'acc': 29.81942410932162, 'loss': 0.9733652304721275},\n",
                            "       {'client_id': 'f2236_83', 'num_train_samples': 138, 'acc': 24.036115178135677, 'loss': 0.8505517370561978},\n",
                            "       {'client_id': 'f3937_40', 'num_train_samples': 153, 'acc': 30.136652024447365, 'loss': 0.9097343648981208},\n",
                            "       {'client_id': 'f2426_87', 'num_train_samples': 135, 'acc': 23.865300146412885, 'loss': 1.3269168312030766},\n",
                            "       {'client_id': 'f3303_31', 'num_train_samples': 161, 'acc': 31.795998046897342, 'loss': 1.0389511744507742},\n",
                            "       {'client_id': 'f3868_35', 'num_train_samples': 135, 'acc': 26.59834065397755, 'loss': 0.6789692627410693},\n",
                            "       {'client_id': 'f0908_25', 'num_train_samples': 239, 'acc': 30.478282088823818, 'loss': 0.8634597579262199},\n",
                            "       {'client_id': 'f0001_41', 'num_train_samples': 372, 'acc': 34.13860419716935, 'loss': 0.9295258261080263},\n",
                            "       {'client_id': 'f1726_01', 'num_train_samples': 36, 'acc': 1.7813567593948267, 'loss': 3.4195886918405693},\n",
                            "       {'client_id': 'f3251_33', 'num_train_samples': 153, 'acc': 26.012689114780528, 'loss': 0.8459460679281117},\n",
                            "       {'client_id': 'f1729_47', 'num_train_samples': 153, 'acc': 28.306490971205466, 'loss': 1.142779572301159},\n",
                            "       {'client_id': 'f1125_41', 'num_train_samples': 309, 'acc': 39.31185944270017, 'loss': 0.5511309235525171},\n",
                            "       {'client_id': 'f2448_94', 'num_train_samples': 160, 'acc': 24.23133235724744, 'loss': 0.7153166395374545},\n",
                            "       {'client_id': 'f0743_31', 'num_train_samples': 383, 'acc': 26.866764274325355, 'loss': 0.8753451613720169},\n",
                            "       {'client_id': 'f1238_43', 'num_train_samples': 336, 'acc': 32.6744753519694, 'loss': 0.6429830922784844},\n",
                            "       {'client_id': 'f0854_12', 'num_train_samples': 337, 'acc': 32.57686676334439, 'loss': 0.5967066338975798},\n",
                            "       {'client_id': 'f0829_00', 'num_train_samples': 312, 'acc': 38.09175207325166, 'loss': 0.798840553544278},\n",
                            "       {'client_id': 'f1545_40', 'num_train_samples': 128, 'acc': 22.449975596921742, 'loss': 1.9239481299689396},\n",
                            "       {'client_id': 'f0255_48', 'num_train_samples': 377, 'acc': 37.96974133537594, 'loss': 0.6644337144186901},\n",
                            "       {'client_id': 'f3120_04', 'num_train_samples': 150, 'acc': 27.42801366520254, 'loss': 0.997372354889998},\n",
                            "       {'client_id': 'f0413_09', 'num_train_samples': 2, 'acc': 1.0004880429477794, 'loss': 0.1919845513088876},\n",
                            "       {'client_id': 'f3766_48', 'num_train_samples': 146, 'acc': 22.52318204001952, 'loss': 0.6970523118227808},\n",
                            "       {'client_id': 'f2335_52', 'num_train_samples': 159, 'acc': 15.202537823328452, 'loss': 1.5056837981511362},\n",
                            "       {'client_id': 'f0353_18', 'num_train_samples': 255, 'acc': 31.69838945734146, 'loss': 0.8014706819589992},\n",
                            "       {'client_id': 'f0273_27', 'num_train_samples': 305, 'acc': 35.456320156173746, 'loss': 0.8914043775023883},\n",
                            "       {'client_id': 'f1461_46', 'num_train_samples': 207, 'acc': 30.6002928248378, 'loss': 1.00367383339418},\n",
                            "       {'client_id': 'f1895_37', 'num_train_samples': 157, 'acc': 25.84187408491947, 'loss': 0.9989698125622432},\n",
                            "       {'client_id': 'f0929_23', 'num_train_samples': 318, 'acc': 32.79648608984512, 'loss': 0.7882411326261779},\n",
                            "       {'client_id': 'f1819_37', 'num_train_samples': 62, 'acc': 18.814055636896047, 'loss': 1.6500303338131597},\n",
                            "       {'client_id': 'f1438_26', 'num_train_samples': 236, 'acc': 26.11029770433641, 'loss': 1.0564537969035355},\n",
                            "       {'client_id': 'f0074_07', 'num_train_samples': 70, 'acc': 9.443631039531478, 'loss': 2.318327458123011},\n",
                            "       {'client_id': 'f2102_52', 'num_train_samples': 148, 'acc': 20.497803806734993, 'loss': 0.9930824722979137},\n",
                            "       {'client_id': 'f3992_46', 'num_train_samples': 122, 'acc': 30.307467056170157, 'loss': 0.9487430542529376},\n",
                            "       {'client_id': 'f2240_80', 'num_train_samples': 11, 'acc': 4.758418739918326, 'loss': 2.084392386999997},\n",
                            "       {'client_id': 'f0107_06', 'num_train_samples': 352, 'acc': 29.62420692927899, 'loss': 1.064395601178401},\n",
                            "       {'client_id': 'f1226_13', 'num_train_samples': 298, 'acc': 39.11664226358841, 'loss': 0.9039512488009132},\n",
                            "       {'client_id': 'f1430_10', 'num_train_samples': 252, 'acc': 27.159590042062128, 'loss': 1.0311063872329647},\n",
                            "       {'client_id': 'f1536_05', 'num_train_samples': 161, 'acc': 18.838457783354148, 'loss': 0.8504531829730261},\n",
                            "       {'client_id': 'f2561_89', 'num_train_samples': 130, 'acc': 26.939970716492265, 'loss': 1.2445930791060864},\n",
                            "       {'client_id': 'f2200_55', 'num_train_samples': 151, 'acc': 23.670082967301123, 'loss': 1.6005600499803108},\n",
                            "       {'client_id': 'f0213_49', 'num_train_samples': 161, 'acc': 28.3064909702746, 'loss': 1.1538462335073953},\n",
                            "       {'client_id': 'f3576_04', 'num_train_samples': 164, 'acc': 29.42898975016723, 'loss': 1.0078969229884618},\n",
                            "       {'client_id': 'f3468_13', 'num_train_samples': 160, 'acc': 18.17959980478282, 'loss': 0.6338308889508437},\n",
                            "       {'client_id': 'f3212_36', 'num_train_samples': 162, 'acc': 24.206930209858466, 'loss': 1.2797125917013996},\n",
                            "       {'client_id': 'f1665_00', 'num_train_samples': 108, 'acc': 26.50073206442167, 'loss': 1.2894100656610084},\n",
                            "       {'client_id': 'f3669_35', 'num_train_samples': 154, 'acc': 18.545632015617375, 'loss': 1.2695699505123619},\n",
                            "       {'client_id': 'f0208_05', 'num_train_samples': 372, 'acc': 40.45876036905091, 'loss': 0.6727890273164558},\n",
                            "       {'client_id': 'f2145_89', 'num_train_samples': 117, 'acc': 15.812591508052709, 'loss': 1.599315094249293},\n",
                            "       {'client_id': 'f1859_39', 'num_train_samples': 97, 'acc': 30.96632503660322, 'loss': 0.694263699548853},\n",
                            "       {'client_id': 'f0615_00', 'num_train_samples': 338, 'acc': 32.47925817471938, 'loss': 0.7274482784987006},\n",
                            "       {'client_id': 'f1035_22', 'num_train_samples': 317, 'acc': 26.57393850565771, 'loss': 0.978413944034027},\n",
                            "       {'client_id': 'f1167_31', 'num_train_samples': 146, 'acc': 25.280624694042288, 'loss': 1.0701368766505759},\n",
                            "       {'client_id': 'f0009_06', 'num_train_samples': 340, 'acc': 31.82040019428631, 'loss': 1.0738514351062092},\n",
                            "       {'client_id': 'f2168_66', 'num_train_samples': 141, 'acc': 19.03367496339678, 'loss': 1.4736623942879885},\n",
                            "       {'client_id': 'f3320_18', 'num_train_samples': 153, 'acc': 19.741337237676916, 'loss': 1.0091058089957325},\n",
                            "       {'client_id': 'f0747_24', 'num_train_samples': 335, 'acc': 35.13909223918626, 'loss': 0.5712942212755479},\n",
                            "       {'client_id': 'f1909_43', 'num_train_samples': 126, 'acc': 30.746705708240754, 'loss': 1.0651428939462917},\n",
                            "       {'client_id': 'f2391_85', 'num_train_samples': 135, 'acc': 21.66910687954383, 'loss': 0.9077168165660717},\n",
                            "       {'client_id': 'f3522_46', 'num_train_samples': 163, 'acc': 25.768667641821693, 'loss': 1.0319067982076082},\n",
                            "       {'client_id': 'f0301_33', 'num_train_samples': 344, 'acc': 31.063933625228234, 'loss': 0.7650215349953093},\n",
                            "       {'client_id': 'f0647_19', 'num_train_samples': 252, 'acc': 29.990239140113545, 'loss': 1.0787426217823077},\n",
                            "       {'client_id': 'f2417_81', 'num_train_samples': 155, 'acc': 26.35431918008785, 'loss': 1.0412013008403536},\n",
                            "       {'client_id': 'f0948_01', 'num_train_samples': 271, 'acc': 30.6002928248378, 'loss': 0.9372632557302706},\n",
                            "       {'client_id': 'f3219_49', 'num_train_samples': 161, 'acc': 24.743777451484945, 'loss': 0.8518825020810373},\n",
                            "       {'client_id': 'f2332_97', 'num_train_samples': 150, 'acc': 24.35334309419229, 'loss': 1.2656793516504694},\n",
                            "       {'client_id': 'f0588_19', 'num_train_samples': 341, 'acc': 29.599804781890022, 'loss': 0.7627613633183521},\n",
                            "       {'client_id': 'f0492_08', 'num_train_samples': 342, 'acc': 26.37872132654595, 'loss': 0.4478589174379276},\n",
                            "       {'client_id': 'f2068_36', 'num_train_samples': 142, 'acc': 30.234260614934115, 'loss': 1.0223695355771274},\n",
                            "       {'client_id': 'f3232_11', 'num_train_samples': 155, 'acc': 9.49243533430942, 'loss': 0.9055167287224932},\n",
                            "       {'client_id': 'f0564_43', 'num_train_samples': 262, 'acc': 33.60175695275027, 'loss': 0.9924670159329614},\n",
                            "       {'client_id': 'f3397_12', 'num_train_samples': 6, 'acc': 7.1742313314263795, 'loss': 1.6749526448051135},\n",
                            "       {'client_id': 'f2295_67', 'num_train_samples': 131, 'acc': 14.153245484671865, 'loss': 1.129529474954223},\n",
                            "       {'client_id': 'f3601_49', 'num_train_samples': 157, 'acc': 27.52562225382755, 'loss': 0.9091997891113933},\n",
                            "       {'client_id': 'f0569_42', 'num_train_samples': 267, 'acc': 32.650073206442165, 'loss': 0.7268026090897491},\n",
                            "       {'client_id': 'f2576_66', 'num_train_samples': 157, 'acc': 29.45339189662533, 'loss': 1.0574121920395616},\n",
                            "       {'client_id': 'f3428_02', 'num_train_samples': 161, 'acc': 27.745241580328283, 'loss': 1.0065435439189705},\n",
                            "       {'client_id': 'f3155_15', 'num_train_samples': 159, 'acc': 29.526598340653976, 'loss': 0.7641394843284349},\n",
                            "       {'client_id': 'f0517_23', 'num_train_samples': 239, 'acc': 19.96095656231591, 'loss': 0.9515005254306301},\n",
                            "       {'client_id': 'f1811_11', 'num_train_samples': 126, 'acc': 28.330893117663567, 'loss': 1.2441120872575508},\n",
                            "       {'client_id': 'f1506_35', 'num_train_samples': 137, 'acc': 24.91459248227687, 'loss': 1.4896567956327704},\n",
                            "       {'client_id': 'f1483_44', 'num_train_samples': 290, 'acc': 33.50414836412526, 'loss': 0.7308481984561639},\n",
                            "       {'client_id': 'f2077_16', 'num_train_samples': 97, 'acc': 22.44997559785261, 'loss': 1.1932077476757965},\n",
                            "       {'client_id': 'f3188_47', 'num_train_samples': 155, 'acc': 28.79453391898487, 'loss': 1.3123140830148294},\n",
                            "       {'client_id': 'f3903_05', 'num_train_samples': 151, 'acc': 22.962420693020984, 'loss': 0.9688276150459746},\n",
                            "       {'client_id': 'f1345_41', 'num_train_samples': 314, 'acc': 33.47974621673629, 'loss': 0.7748793592062966},\n",
                            "       {'client_id': 'f1451_24', 'num_train_samples': 222, 'acc': 28.184480233329747, 'loss': 1.0583407095946633},\n",
                            "       {'client_id': 'f0457_13', 'num_train_samples': 235, 'acc': 32.67447535290027, 'loss': 1.2255836765330683},\n",
                            "       {'client_id': 'f3518_46', 'num_train_samples': 148, 'acc': 26.720351390922403, 'loss': 0.928296676350982},\n",
                            "       {'client_id': 'f1502_33', 'num_train_samples': 102, 'acc': 32.284040994676744, 'loss': 0.8481646738515216},\n",
                            "       {'client_id': 'f3806_01', 'num_train_samples': 153, 'acc': 24.914592484138605, 'loss': 1.1680582056712592},\n",
                            "       {'client_id': 'f3678_17', 'num_train_samples': 130, 'acc': 26.134699852656247, 'loss': 0.7443322948254928},\n",
                            "       {'client_id': 'f3859_23', 'num_train_samples': 156, 'acc': 26.793557833089313, 'loss': 0.9362884775092268},\n",
                            "       {'client_id': 'f0693_40', 'num_train_samples': 269, 'acc': 34.285017079641435, 'loss': 0.8936080390435822},\n",
                            "       {'client_id': 'f1046_14', 'num_train_samples': 279, 'acc': 36.23718887168992, 'loss': 0.642798222972855},\n",
                            "       {'client_id': 'f2526_71', 'num_train_samples': 154, 'acc': 22.010736944851146, 'loss': 1.0702226881133592},\n",
                            "       {'client_id': 'f1613_27', 'num_train_samples': 155, 'acc': 28.062469497315764, 'loss': 1.2468067230116915},\n",
                            "       {'client_id': 'f1248_28', 'num_train_samples': 162, 'acc': 17.959980478282088, 'loss': 1.0882551402043563},\n",
                            "       {'client_id': 'f1608_37', 'num_train_samples': 150, 'acc': 28.818936065442973, 'loss': 1.1542375387270973},\n",
                            "       {'client_id': 'f0636_12', 'num_train_samples': 243, 'acc': 30.74670570917162, 'loss': 0.9505764766939654},\n",
                            "       {'client_id': 'f0365_07', 'num_train_samples': 256, 'acc': 30.72230356271352, 'loss': 0.746339023656645},\n",
                            "       {'client_id': 'f0147_13', 'num_train_samples': 319, 'acc': 38.16495851541857, 'loss': 0.8904053210697312},\n",
                            "       {'client_id': 'f1867_44', 'num_train_samples': 126, 'acc': 19.91215226939971, 'loss': 1.2091406879464819},\n",
                            "       {'client_id': 'f1218_35', 'num_train_samples': 245, 'acc': 30.575890678379697, 'loss': 1.2359823820808244},\n",
                            "       {'client_id': 'f2115_77', 'num_train_samples': 23, 'acc': 17.227916055682115, 'loss': 1.6911869798049979},\n",
                            "       {'client_id': 'f0820_47', 'num_train_samples': 276, 'acc': 22.864812102534238, 'loss': 0.8680527263358236},\n",
                            "       {'client_id': 'f3649_28', 'num_train_samples': 164, 'acc': 25.939482672613618, 'loss': 1.106116866002879}],\n",
                            "      dtype=object)"
                        ]
                    },
                    "metadata": {},
                    "execution_count": 3
                }
            ],
            "metadata": {}
        },
        {
            "cell_type": "code",
            "execution_count": 4,
            "source": [
                "# clientNum192_round0_localEpoch500 = np.load('id_samples_acc_loss-clientNum192-round0-localEpoch500.npy', allow_pickle=True)\n",
                "# # clientNum192_round0_localEpoch500\n",
                "# clientNum192_round0_localEpoch500_sort = sorted(clientNum192_round0_localEpoch500, key = lambda kv:kv['acc'])\n",
                "# clientNum192_round0_localEpoch500_sort"
            ],
            "outputs": [],
            "metadata": {}
        },
        {
            "cell_type": "code",
            "execution_count": null,
            "source": [
                "clientNum192_round0_localEpoch100 = np.load('id_samples_acc_loss-clientNum192-round0-localEpoch100.npy', allow_pickle=True)\n",
                "# clientNum192_round0_localEpoch500\n",
                "clientNum192_round0_localEpoch100_sort = sorted(clientNum192_round0_localEpoch100, key = lambda kv:kv['acc'])\n",
                "clientNum192_round0_localEpoch100_sort"
            ],
            "outputs": [],
            "metadata": {}
        },
        {
            "cell_type": "code",
            "execution_count": 8,
            "source": [
                "clientNum192_round49_localEpoch1_sort = sorted(np.load('id_samples_acc_loss-clientNum192-round49-localEpoch1.npy', allow_pickle=True), key = lambda kv:kv['acc'])\n",
                "clientNum192_round49_localEpoch1_sort"
            ],
            "outputs": [],
            "metadata": {}
        }
    ],
    "metadata": {
        "orig_nbformat": 4,
        "language_info": {
            "name": "python",
            "version": "3.7.7",
            "mimetype": "text/x-python",
            "codemirror_mode": {
                "name": "ipython",
                "version": 3
            },
            "pygments_lexer": "ipython3",
            "nbconvert_exporter": "python",
            "file_extension": ".py"
        },
        "kernelspec": {
            "name": "python3",
            "display_name": "Python 3.7.7 64-bit ('base': conda)"
        },
        "interpreter": {
            "hash": "98b0a9b7b4eaaa670588a142fd0a9b87eaafe866f1db4228be72b4211d12040f"
        }
    },
    "nbformat": 4,
    "nbformat_minor": 2
}