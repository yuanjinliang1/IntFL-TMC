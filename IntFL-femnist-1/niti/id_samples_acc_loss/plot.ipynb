{
    "cells": [
        {
            "cell_type": "code",
            "execution_count": 1,
            "source": [
                "import torch\n",
                "import numpy as np\n",
                "import math\n",
                "import matplotlib.pyplot as plt"
            ],
            "outputs": [
                {
                    "output_type": "error",
                    "ename": "ModuleNotFoundError",
                    "evalue": "No module named 'matplotlib'",
                    "traceback": [
                        "\u001b[0;31m---------------------------------------------------------------------------\u001b[0m",
                        "\u001b[0;31mModuleNotFoundError\u001b[0m                       Traceback (most recent call last)",
                        "\u001b[0;32m/tmp/ipykernel_52599/1061888365.py\u001b[0m in \u001b[0;36m<module>\u001b[0;34m\u001b[0m\n\u001b[1;32m      2\u001b[0m \u001b[0;32mimport\u001b[0m \u001b[0mnumpy\u001b[0m \u001b[0;32mas\u001b[0m \u001b[0mnp\u001b[0m\u001b[0;34m\u001b[0m\u001b[0;34m\u001b[0m\u001b[0m\n\u001b[1;32m      3\u001b[0m \u001b[0;32mimport\u001b[0m \u001b[0mmath\u001b[0m\u001b[0;34m\u001b[0m\u001b[0;34m\u001b[0m\u001b[0m\n\u001b[0;32m----> 4\u001b[0;31m \u001b[0;32mimport\u001b[0m \u001b[0mmatplotlib\u001b[0m\u001b[0;34m.\u001b[0m\u001b[0mpyplot\u001b[0m \u001b[0;32mas\u001b[0m \u001b[0mplt\u001b[0m\u001b[0;34m\u001b[0m\u001b[0;34m\u001b[0m\u001b[0m\n\u001b[0m",
                        "\u001b[0;31mModuleNotFoundError\u001b[0m: No module named 'matplotlib'"
                    ]
                }
            ],
            "metadata": {}
        },
        {
            "cell_type": "code",
            "execution_count": null,
            "source": [
                "clientNum10_round0_localEpoch100 = np.load('id_samples_acc_loss-clientNum10-round0-localEpoch100.npy', allow_pickle=True)\n",
                "clientNum10_round0_localEpoch100"
            ],
            "outputs": [
                {
                    "output_type": "execute_result",
                    "data": {
                        "text/plain": [
                            "array([{'client_id': 'f1978_04', 'num_train_samples': 148, 'acc': 29.62420693020986, 'loss': 1.2983109401274555},\n",
                            "       {'client_id': 'f1391_35', 'num_train_samples': 355, 'acc': 30.8443142987275, 'loss': 0.8749251063226569},\n",
                            "       {'client_id': 'f3450_19', 'num_train_samples': 160, 'acc': 25.915080527086385, 'loss': 1.3290797956696951},\n",
                            "       {'client_id': 'f1750_06', 'num_train_samples': 44, 'acc': 24.841386041971692, 'loss': 1.736414947350594},\n",
                            "       {'client_id': 'f2243_87', 'num_train_samples': 142, 'acc': 27.061981453437117, 'loss': 0.9909542768200154},\n",
                            "       {'client_id': 'f1313_04', 'num_train_samples': 211, 'acc': 41.50805270770749, 'loss': 0.8515423783510588},\n",
                            "       {'client_id': 'f0306_35', 'num_train_samples': 205, 'acc': 17.959980478282088, 'loss': 0.6868576747702705},\n",
                            "       {'client_id': 'f3370_37', 'num_train_samples': 162, 'acc': 28.86774036115178, 'loss': 1.0189389173372336},\n",
                            "       {'client_id': 'f3143_04', 'num_train_samples': 163, 'acc': 31.112737920006175, 'loss': 1.0547607638840921},\n",
                            "       {'client_id': 'f0118_07', 'num_train_samples': 240, 'acc': 24.597364568081993, 'loss': 0.6345569274800869}],\n",
                            "      dtype=object)"
                        ]
                    },
                    "metadata": {},
                    "execution_count": 3
                }
            ],
            "metadata": {}
        }
    ],
    "metadata": {
        "orig_nbformat": 4,
        "language_info": {
            "name": "python",
            "version": "3.7.10",
            "mimetype": "text/x-python",
            "codemirror_mode": {
                "name": "ipython",
                "version": 3
            },
            "pygments_lexer": "ipython3",
            "nbconvert_exporter": "python",
            "file_extension": ".py"
        },
        "kernelspec": {
            "name": "python3",
            "display_name": "Python 3.7.10 64-bit ('base': conda)"
        },
        "interpreter": {
            "hash": "98b0a9b7b4eaaa670588a142fd0a9b87eaafe866f1db4228be72b4211d12040f"
        }
    },
    "nbformat": 4,
    "nbformat_minor": 2
}